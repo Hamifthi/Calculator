{
 "cells": [
  {
   "cell_type": "code",
   "execution_count": 67,
   "metadata": {},
   "outputs": [
    {
     "name": "stdout",
     "output_type": "stream",
     "text": [
      "4613732\n"
     ]
    }
   ],
   "source": [
    "def isEven(n):\n",
    "    if n % 2 == 0:\n",
    "        return True\n",
    "    return False\n",
    "dictOfFib = {1 : 1, 2 : 2}\n",
    "def fib(n):\n",
    "    if n not in dictOfFib:\n",
    "        newValue = fib(n - 1) + fib(n - 2)\n",
    "        dictOfFib[n] = newValue\n",
    "    return dictOfFib[n]\n",
    "\n",
    "n = 3\n",
    "sum = 0\n",
    "while sum < 4000000:\n",
    "    if fib(n) % 2 == 0:\n",
    "        sum += fib(n)\n",
    "    n += 1\n",
    "print(sum)\n",
    "\n",
    "\n"
   ]
  },
  {
   "cell_type": "code",
   "execution_count": null,
   "metadata": {
    "collapsed": true
   },
   "outputs": [],
   "source": []
  }
 ],
 "metadata": {
  "kernelspec": {
   "display_name": "Python 3",
   "language": "python",
   "name": "python3"
  },
  "language_info": {
   "codemirror_mode": {
    "name": "ipython",
    "version": 3
   },
   "file_extension": ".py",
   "mimetype": "text/x-python",
   "name": "python",
   "nbconvert_exporter": "python",
   "pygments_lexer": "ipython3",
   "version": "3.6.2rc2"
  }
 },
 "nbformat": 4,
 "nbformat_minor": 2
}
